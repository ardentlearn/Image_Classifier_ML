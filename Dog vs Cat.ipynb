{
 "cells": [
  {
   "cell_type": "markdown",
   "id": "f3e8bd8b",
   "metadata": {},
   "source": [
    "# Convolution Neural Network"
   ]
  },
  {
   "cell_type": "markdown",
   "id": "7627d8be",
   "metadata": {},
   "source": [
    "## Libraries"
   ]
  },
  {
   "cell_type": "code",
   "execution_count": 1,
   "id": "bbd80862",
   "metadata": {},
   "outputs": [],
   "source": [
    "import tensorflow as tf"
   ]
  },
  {
   "cell_type": "code",
   "execution_count": 2,
   "id": "bee76ac4",
   "metadata": {},
   "outputs": [],
   "source": [
    "from keras.preprocessing.image import ImageDataGenerator"
   ]
  },
  {
   "cell_type": "markdown",
   "id": "9d4379f6",
   "metadata": {},
   "source": [
    "# PART 1 - Data Preprocessing"
   ]
  },
  {
   "cell_type": "markdown",
   "id": "dc3b087e",
   "metadata": {},
   "source": [
    "## Preprocessing the Training set"
   ]
  },
  {
   "cell_type": "code",
   "execution_count": 3,
   "id": "7b364740",
   "metadata": {},
   "outputs": [],
   "source": [
    "train_datagen = ImageDataGenerator(rescale = 1./255,\n",
    "                                   shear_range = 0.2,\n",
    "                                  zoom_range = 0.2,\n",
    "                                  horizontal_flip = True)"
   ]
  },
  {
   "cell_type": "code",
   "execution_count": 4,
   "id": "e628f8fa",
   "metadata": {
    "scrolled": true
   },
   "outputs": [
    {
     "name": "stdout",
     "output_type": "stream",
     "text": [
      "Found 20576 images belonging to 2 classes.\n"
     ]
    }
   ],
   "source": [
    "training_set = train_datagen.flow_from_directory('datasets/dogs-vs-cats/train',\n",
    "                                                target_size = (64,64),\n",
    "                                                 batch_size = 32,\n",
    "                                                 class_mode = 'binary')"
   ]
  },
  {
   "cell_type": "markdown",
   "id": "4e4dfb26",
   "metadata": {},
   "source": [
    "## Preprocessing the Test Dataset"
   ]
  },
  {
   "cell_type": "code",
   "execution_count": 5,
   "id": "63806f86",
   "metadata": {},
   "outputs": [
    {
     "name": "stdout",
     "output_type": "stream",
     "text": [
      "Found 4424 images belonging to 2 classes.\n"
     ]
    }
   ],
   "source": [
    "test_datagen = ImageDataGenerator(rescale = 1./255)\n",
    "test_set = test_datagen.flow_from_directory('datasets/dogs-vs-cats/test',\n",
    "                                            target_size = (64,64),\n",
    "                                            batch_size = 32,\n",
    "                                            class_mode = 'binary')"
   ]
  },
  {
   "cell_type": "markdown",
   "id": "2fc61491",
   "metadata": {},
   "source": [
    "# Part 2 - Building the CNN "
   ]
  },
  {
   "cell_type": "markdown",
   "id": "fbfb46a3",
   "metadata": {},
   "source": [
    "## Initialising the CNN"
   ]
  },
  {
   "cell_type": "code",
   "execution_count": 6,
   "id": "92536af0",
   "metadata": {},
   "outputs": [],
   "source": [
    "cnn = tf.keras.models.Sequential()"
   ]
  },
  {
   "cell_type": "markdown",
   "id": "ad197319",
   "metadata": {},
   "source": [
    "## Step 1 - Convolution"
   ]
  },
  {
   "cell_type": "code",
   "execution_count": 7,
   "id": "1023a7f3",
   "metadata": {},
   "outputs": [],
   "source": [
    "cnn.add(tf.keras.layers.Conv2D(filters=32,kernel_size=3, activation='relu',input_shape=[64,64,3]))"
   ]
  },
  {
   "cell_type": "markdown",
   "id": "4d5fa53c",
   "metadata": {},
   "source": [
    "## Step 2 - Pooling"
   ]
  },
  {
   "cell_type": "code",
   "execution_count": 8,
   "id": "4c2759ef",
   "metadata": {},
   "outputs": [],
   "source": [
    "cnn.add(tf.keras.layers.MaxPool2D(pool_size=2, strides=2))"
   ]
  },
  {
   "cell_type": "markdown",
   "id": "66d77133",
   "metadata": {},
   "source": [
    "## Adding a Second convolution layer"
   ]
  },
  {
   "cell_type": "code",
   "execution_count": 9,
   "id": "e0011dac",
   "metadata": {},
   "outputs": [],
   "source": [
    "cnn.add(tf.keras.layers.Conv2D(filters=32,kernel_size=3, activation='relu'))\n",
    "cnn.add(tf.keras.layers.MaxPool2D(pool_size=2, strides=2))"
   ]
  },
  {
   "cell_type": "markdown",
   "id": "8162d401",
   "metadata": {},
   "source": [
    "## Step 3 - Flattening "
   ]
  },
  {
   "cell_type": "code",
   "execution_count": 10,
   "id": "db684913",
   "metadata": {},
   "outputs": [],
   "source": [
    "cnn.add(tf.keras.layers.Flatten())"
   ]
  },
  {
   "cell_type": "markdown",
   "id": "1cefeefa",
   "metadata": {},
   "source": [
    "## Step 4 - Full Connection"
   ]
  },
  {
   "cell_type": "code",
   "execution_count": 11,
   "id": "8a488703",
   "metadata": {},
   "outputs": [],
   "source": [
    "cnn.add(tf.keras.layers.Dense(units=128, activation='relu'))"
   ]
  },
  {
   "cell_type": "markdown",
   "id": "d44abfce",
   "metadata": {},
   "source": [
    "## Step 5 - Output Layer"
   ]
  },
  {
   "cell_type": "code",
   "execution_count": 12,
   "id": "fbc439f7",
   "metadata": {},
   "outputs": [],
   "source": [
    "cnn.add(tf.keras.layers.Dense(units=1, activation='sigmoid'))"
   ]
  },
  {
   "cell_type": "markdown",
   "id": "c7139ae2",
   "metadata": {},
   "source": [
    "# Part 3 - Training the CNN "
   ]
  },
  {
   "cell_type": "markdown",
   "id": "b3fb4bf8",
   "metadata": {},
   "source": [
    "## Compiling the CNN "
   ]
  },
  {
   "cell_type": "code",
   "execution_count": 13,
   "id": "fa2587d2",
   "metadata": {},
   "outputs": [],
   "source": [
    "cnn.compile(optimizer = 'adam', loss = 'binary_crossentropy', metrics = ['accuracy'])"
   ]
  },
  {
   "cell_type": "markdown",
   "id": "860b7b3f",
   "metadata": {},
   "source": [
    "## Training the CNN on the Training set and evaluating it on the Test set"
   ]
  },
  {
   "cell_type": "code",
   "execution_count": 14,
   "id": "06b26f11",
   "metadata": {},
   "outputs": [
    {
     "name": "stdout",
     "output_type": "stream",
     "text": [
      "Epoch 1/30\n",
      "643/643 [==============================] - 119s 185ms/step - loss: 0.6286 - accuracy: 0.6420 - val_loss: 0.5410 - val_accuracy: 0.7181\n",
      "Epoch 2/30\n",
      "643/643 [==============================] - 121s 188ms/step - loss: 0.5443 - accuracy: 0.7258 - val_loss: 0.5001 - val_accuracy: 0.7649\n",
      "Epoch 3/30\n",
      "643/643 [==============================] - 121s 188ms/step - loss: 0.5064 - accuracy: 0.7510 - val_loss: 0.4652 - val_accuracy: 0.7835\n",
      "Epoch 4/30\n",
      "643/643 [==============================] - 115s 179ms/step - loss: 0.4760 - accuracy: 0.7719 - val_loss: 0.4659 - val_accuracy: 0.7844\n",
      "Epoch 5/30\n",
      "643/643 [==============================] - 116s 181ms/step - loss: 0.4600 - accuracy: 0.7818 - val_loss: 0.4429 - val_accuracy: 0.7925\n",
      "Epoch 6/30\n",
      "643/643 [==============================] - 120s 187ms/step - loss: 0.4336 - accuracy: 0.7999 - val_loss: 0.4244 - val_accuracy: 0.8117\n",
      "Epoch 7/30\n",
      "643/643 [==============================] - 120s 186ms/step - loss: 0.4161 - accuracy: 0.8088 - val_loss: 0.4137 - val_accuracy: 0.8126\n",
      "Epoch 8/30\n",
      "643/643 [==============================] - 121s 188ms/step - loss: 0.4036 - accuracy: 0.8151 - val_loss: 0.4223 - val_accuracy: 0.8149\n",
      "Epoch 9/30\n",
      "643/643 [==============================] - 127s 197ms/step - loss: 0.3858 - accuracy: 0.8276 - val_loss: 0.4832 - val_accuracy: 0.7896\n",
      "Epoch 10/30\n",
      "643/643 [==============================] - 121s 188ms/step - loss: 0.3681 - accuracy: 0.8363 - val_loss: 0.4032 - val_accuracy: 0.8235\n",
      "Epoch 11/30\n",
      "643/643 [==============================] - 116s 181ms/step - loss: 0.3541 - accuracy: 0.8425 - val_loss: 0.4045 - val_accuracy: 0.8198\n",
      "Epoch 12/30\n",
      "643/643 [==============================] - 114s 177ms/step - loss: 0.3427 - accuracy: 0.8505 - val_loss: 0.4155 - val_accuracy: 0.8219\n",
      "Epoch 13/30\n",
      "643/643 [==============================] - 113s 176ms/step - loss: 0.3229 - accuracy: 0.8594 - val_loss: 0.4584 - val_accuracy: 0.8022\n",
      "Epoch 14/30\n",
      "643/643 [==============================] - 104s 162ms/step - loss: 0.3116 - accuracy: 0.8664 - val_loss: 0.4052 - val_accuracy: 0.8253\n",
      "Epoch 15/30\n",
      "643/643 [==============================] - 87s 135ms/step - loss: 0.2968 - accuracy: 0.8701 - val_loss: 0.3993 - val_accuracy: 0.8309\n",
      "Epoch 16/30\n",
      "643/643 [==============================] - 86s 134ms/step - loss: 0.2829 - accuracy: 0.8794 - val_loss: 0.4123 - val_accuracy: 0.8325\n",
      "Epoch 17/30\n",
      "643/643 [==============================] - 85s 132ms/step - loss: 0.2776 - accuracy: 0.8809 - val_loss: 0.4644 - val_accuracy: 0.8113\n",
      "Epoch 18/30\n",
      "643/643 [==============================] - 85s 132ms/step - loss: 0.2630 - accuracy: 0.8882 - val_loss: 0.4418 - val_accuracy: 0.8219\n",
      "Epoch 19/30\n",
      "643/643 [==============================] - 85s 132ms/step - loss: 0.2496 - accuracy: 0.8943 - val_loss: 0.5124 - val_accuracy: 0.7995\n",
      "Epoch 20/30\n",
      "643/643 [==============================] - 90s 140ms/step - loss: 0.2411 - accuracy: 0.8996 - val_loss: 0.5076 - val_accuracy: 0.8119\n",
      "Epoch 21/30\n",
      "643/643 [==============================] - 85s 132ms/step - loss: 0.2299 - accuracy: 0.9056 - val_loss: 0.4613 - val_accuracy: 0.8257\n",
      "Epoch 22/30\n",
      "643/643 [==============================] - 85s 132ms/step - loss: 0.2192 - accuracy: 0.9101 - val_loss: 0.4475 - val_accuracy: 0.8302\n",
      "Epoch 23/30\n",
      "643/643 [==============================] - 85s 132ms/step - loss: 0.2160 - accuracy: 0.9118 - val_loss: 0.4981 - val_accuracy: 0.8176\n",
      "Epoch 24/30\n",
      "643/643 [==============================] - 85s 132ms/step - loss: 0.2033 - accuracy: 0.9180 - val_loss: 0.4764 - val_accuracy: 0.8187\n",
      "Epoch 25/30\n",
      "643/643 [==============================] - 85s 132ms/step - loss: 0.1924 - accuracy: 0.9211 - val_loss: 0.4925 - val_accuracy: 0.8221\n",
      "Epoch 26/30\n",
      "643/643 [==============================] - 85s 132ms/step - loss: 0.1807 - accuracy: 0.9274 - val_loss: 0.5008 - val_accuracy: 0.8359\n",
      "Epoch 27/30\n",
      "643/643 [==============================] - 85s 132ms/step - loss: 0.1781 - accuracy: 0.9283 - val_loss: 0.5189 - val_accuracy: 0.8293\n",
      "Epoch 28/30\n",
      "643/643 [==============================] - 85s 132ms/step - loss: 0.1653 - accuracy: 0.9346 - val_loss: 0.5865 - val_accuracy: 0.8144\n",
      "Epoch 29/30\n",
      "643/643 [==============================] - 85s 132ms/step - loss: 0.1637 - accuracy: 0.9339 - val_loss: 0.6038 - val_accuracy: 0.8174\n",
      "Epoch 30/30\n",
      "643/643 [==============================] - 85s 132ms/step - loss: 0.1553 - accuracy: 0.9392 - val_loss: 0.5798 - val_accuracy: 0.8248\n"
     ]
    },
    {
     "data": {
      "text/plain": [
       "<keras.callbacks.History at 0x211940a68d0>"
      ]
     },
     "execution_count": 14,
     "metadata": {},
     "output_type": "execute_result"
    }
   ],
   "source": [
    "cnn.fit(x = training_set, validation_data = test_set, epochs = 30)"
   ]
  },
  {
   "cell_type": "markdown",
   "id": "05179847",
   "metadata": {},
   "source": [
    "# Part 4 - Making a Single Prediction"
   ]
  },
  {
   "cell_type": "code",
   "execution_count": 17,
   "id": "ff9b6fb9",
   "metadata": {},
   "outputs": [],
   "source": [
    "import numpy as np\n",
    "from keras.preprocessing import image\n",
    "test_image = image.load_img('datasets/dogs-vs-cats/forpred/cat_pred.jpg', target_size = (64,64))\n",
    "test_image = image.img_to_array(test_image)\n",
    "test_image = np.expand_dims(test_image, axis = 0)\n",
    "result = cnn.predict(test_image)\n",
    "training_set.class_indices\n",
    "if result[0][0] == 1:\n",
    "    prediction = 'dog'\n",
    "else:\n",
    "    prediction = 'cat'"
   ]
  },
  {
   "cell_type": "code",
   "execution_count": 18,
   "id": "dc054e7c",
   "metadata": {},
   "outputs": [
    {
     "name": "stdout",
     "output_type": "stream",
     "text": [
      "cat\n"
     ]
    }
   ],
   "source": [
    "print(prediction)"
   ]
  }
 ],
 "metadata": {
  "kernelspec": {
   "display_name": "Python 3",
   "language": "python",
   "name": "python3"
  },
  "language_info": {
   "codemirror_mode": {
    "name": "ipython",
    "version": 3
   },
   "file_extension": ".py",
   "mimetype": "text/x-python",
   "name": "python",
   "nbconvert_exporter": "python",
   "pygments_lexer": "ipython3",
   "version": "3.6.13"
  }
 },
 "nbformat": 4,
 "nbformat_minor": 5
}
